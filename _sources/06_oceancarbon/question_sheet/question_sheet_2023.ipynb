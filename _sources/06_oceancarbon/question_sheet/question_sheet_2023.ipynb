{
 "cells": [
  {
   "attachments": {},
   "cell_type": "markdown",
   "metadata": {},
   "source": [
    "# QES:  Ocean Carbon Question Sheet\n",
    "\n"
   ]
  },
  {
   "attachments": {},
   "cell_type": "markdown",
   "metadata": {},
   "source": [
    "Note: your answers to these questions need not be long essays!"
   ]
  },
  {
   "attachments": {},
   "cell_type": "markdown",
   "metadata": {},
   "source": [
    "1. What are the three main processes that interact with ocean circulation to set the concentration and distribution of carbon in the ocean. Describe how DIC, TA and pCO2 change in response to these processes."
   ]
  },
  {
   "attachments": {},
   "cell_type": "markdown",
   "metadata": {},
   "source": [
    "2. Describe the factors that limit biological productivity in the surface ocean, and drive the main the patterns in chlorophyll concentration that we see in the ocean."
   ]
  },
  {
   "attachments": {},
   "cell_type": "markdown",
   "metadata": {},
   "source": [
    "3. Combine Henry's Law with the definition of DIC and the dissociation reactions given in Lecture 36 (Section 7.2 in the online notes) to derive an expression to calculate the concentration of DIC in seawater as a function of pCO2, [H+] and the equilibrium constants K_0, K_1 and K_2."
   ]
  },
  {
   "attachments": {},
   "cell_type": "markdown",
   "metadata": {},
   "source": [
    "4. Calculate the PgC of carbon in a homogeneous ocean and atmosphere using the expression you derived above. What proportion of the total carbon is in the ocean? \n",
    "\n",
    "Use a pCO2 of 420 (present day) ppm and an ocean pH of 8.05, with equilibrium constants for 16 C and 35 Salinity: K0=0.0365, K1=1.175e-6, K2=7.720e-10. The mass of water in the ocean is 1.35 x10^21 kg, and there are around 1.736e20 moles of air in the atmosphere."
   ]
  },
  {
   "attachments": {},
   "cell_type": "markdown",
   "metadata": {},
   "source": [
    "5. Still in this homogeneous ocean, describe how increasing pCO2 would alter the partitioning of carbon between the ocean and atmosphere. Will the proportion of carbon stored in the ocean stay constant?"
   ]
  },
  {
   "attachments": {},
   "cell_type": "markdown",
   "metadata": {},
   "source": [
    "6. Explain what is meant by the 'saturation state' of seawater with respect to calcium carbonate. Why does calcium carbonate dissolve in the deep ocean? "
   ]
  },
  {
   "attachments": {},
   "cell_type": "markdown",
   "metadata": {},
   "source": [
    "7. Explain what is meant by 'ocean acidification'. What impact might ocean acidification have on the surface ocean?"
   ]
  },
  {
   "cell_type": "markdown",
   "metadata": {},
   "source": [
    "8. Discuss the potential feedbacks between the carbonate pump and the biological pump, and how ocean acidification might alter them."
   ]
  },
  {
   "attachments": {},
   "cell_type": "markdown",
   "metadata": {},
   "source": [
    "9. If the Greenland ice sheets melt quickly, slowing the Atlantic Meridional Overturning Circulation, would this increase or decrease carbon in the atmosphere?"
   ]
  }
 ],
 "metadata": {
  "kernelspec": {
   "display_name": "py3",
   "language": "python",
   "name": "python3"
  },
  "language_info": {
   "codemirror_mode": {
    "name": "ipython",
    "version": 3
   },
   "file_extension": ".py",
   "mimetype": "text/x-python",
   "name": "python",
   "nbconvert_exporter": "python",
   "pygments_lexer": "ipython3",
   "version": "3.10.9"
  },
  "orig_nbformat": 4,
  "vscode": {
   "interpreter": {
    "hash": "84814654d570b6154e7b50c8056efce277704a871910502b770b2390c99a6345"
   }
  }
 },
 "nbformat": 4,
 "nbformat_minor": 2
}
